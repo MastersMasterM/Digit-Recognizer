{
  "nbformat": 4,
  "nbformat_minor": 0,
  "metadata": {
    "colab": {
      "provenance": [],
      "authorship_tag": "ABX9TyMSrxJ6v8GMYcK2L4PZ+5zA",
      "include_colab_link": true
    },
    "kernelspec": {
      "name": "python3",
      "display_name": "Python 3"
    },
    "language_info": {
      "name": "python"
    }
  },
  "cells": [
    {
      "cell_type": "markdown",
      "metadata": {
        "id": "view-in-github",
        "colab_type": "text"
      },
      "source": [
        "<a href=\"https://colab.research.google.com/github/MastersMasterM/Digit-Recognizer/blob/main/Digit_Recognition.ipynb\" target=\"_parent\"><img src=\"https://colab.research.google.com/assets/colab-badge.svg\" alt=\"Open In Colab\"/></a>"
      ]
    },
    {
      "cell_type": "markdown",
      "source": [
        "# Using kaggle API to download data"
      ],
      "metadata": {
        "id": "uvpJU4DRDH_n"
      }
    },
    {
      "cell_type": "code",
      "execution_count": 1,
      "metadata": {
        "colab": {
          "base_uri": "https://localhost:8080/"
        },
        "id": "wCdD_Bte96cF",
        "outputId": "ea9c3646-6edb-4175-bb49-dce696a7c0cf"
      },
      "outputs": [
        {
          "output_type": "stream",
          "name": "stdout",
          "text": [
            "Downloading digit-recognizer.zip to /content\n",
            "\r  0% 0.00/15.3M [00:00<?, ?B/s]\r 72% 11.0M/15.3M [00:00<00:00, 115MB/s]\n",
            "\r100% 15.3M/15.3M [00:00<00:00, 133MB/s]\n"
          ]
        }
      ],
      "source": [
        "! pip install -q kaggle\n",
        "! mkdir ~/.kaggle\n",
        "! cp kaggle.json ~/.kaggle/\n",
        "! chmod 600 ~/.kaggle/kaggle.json\n",
        "! kaggle competitions download -c digit-recognizer"
      ]
    },
    {
      "cell_type": "code",
      "source": [
        "! unzip digit-recognizer.zip"
      ],
      "metadata": {
        "colab": {
          "base_uri": "https://localhost:8080/"
        },
        "id": "DUsogivu-ls1",
        "outputId": "c40b1faf-0367-4e95-fa17-eb92c710b470"
      },
      "execution_count": 2,
      "outputs": [
        {
          "output_type": "stream",
          "name": "stdout",
          "text": [
            "Archive:  digit-recognizer.zip\n",
            "  inflating: sample_submission.csv   \n",
            "  inflating: test.csv                \n",
            "  inflating: train.csv               \n"
          ]
        }
      ]
    },
    {
      "cell_type": "markdown",
      "source": [
        "# Importing Libraries"
      ],
      "metadata": {
        "id": "amlz1LahDObT"
      }
    },
    {
      "cell_type": "code",
      "source": [
        "import pandas as pd\n",
        "import numpy as np\n",
        "import tensorflow as tf\n",
        "import matplotlib.pyplot as plt\n",
        "plt.style.use(\"seaborn\")"
      ],
      "metadata": {
        "id": "j-NOU29c-qrr"
      },
      "execution_count": 3,
      "outputs": []
    },
    {
      "cell_type": "code",
      "source": [
        "df = pd.read_csv(\"/content/train.csv\")\n",
        "df.head()"
      ],
      "metadata": {
        "colab": {
          "base_uri": "https://localhost:8080/",
          "height": 236
        },
        "id": "fHEbVHp-_Grf",
        "outputId": "7b3a6734-9444-45d3-8f0e-70ded6190b30"
      },
      "execution_count": 4,
      "outputs": [
        {
          "output_type": "execute_result",
          "data": {
            "text/plain": [
              "   label  pixel0  pixel1  pixel2  pixel3  pixel4  pixel5  pixel6  pixel7  \\\n",
              "0      1       0       0       0       0       0       0       0       0   \n",
              "1      0       0       0       0       0       0       0       0       0   \n",
              "2      1       0       0       0       0       0       0       0       0   \n",
              "3      4       0       0       0       0       0       0       0       0   \n",
              "4      0       0       0       0       0       0       0       0       0   \n",
              "\n",
              "   pixel8  ...  pixel774  pixel775  pixel776  pixel777  pixel778  pixel779  \\\n",
              "0       0  ...         0         0         0         0         0         0   \n",
              "1       0  ...         0         0         0         0         0         0   \n",
              "2       0  ...         0         0         0         0         0         0   \n",
              "3       0  ...         0         0         0         0         0         0   \n",
              "4       0  ...         0         0         0         0         0         0   \n",
              "\n",
              "   pixel780  pixel781  pixel782  pixel783  \n",
              "0         0         0         0         0  \n",
              "1         0         0         0         0  \n",
              "2         0         0         0         0  \n",
              "3         0         0         0         0  \n",
              "4         0         0         0         0  \n",
              "\n",
              "[5 rows x 785 columns]"
            ],
            "text/html": [
              "\n",
              "  <div id=\"df-f8c6b01b-931e-46f8-a5aa-29fa7a32b0be\">\n",
              "    <div class=\"colab-df-container\">\n",
              "      <div>\n",
              "<style scoped>\n",
              "    .dataframe tbody tr th:only-of-type {\n",
              "        vertical-align: middle;\n",
              "    }\n",
              "\n",
              "    .dataframe tbody tr th {\n",
              "        vertical-align: top;\n",
              "    }\n",
              "\n",
              "    .dataframe thead th {\n",
              "        text-align: right;\n",
              "    }\n",
              "</style>\n",
              "<table border=\"1\" class=\"dataframe\">\n",
              "  <thead>\n",
              "    <tr style=\"text-align: right;\">\n",
              "      <th></th>\n",
              "      <th>label</th>\n",
              "      <th>pixel0</th>\n",
              "      <th>pixel1</th>\n",
              "      <th>pixel2</th>\n",
              "      <th>pixel3</th>\n",
              "      <th>pixel4</th>\n",
              "      <th>pixel5</th>\n",
              "      <th>pixel6</th>\n",
              "      <th>pixel7</th>\n",
              "      <th>pixel8</th>\n",
              "      <th>...</th>\n",
              "      <th>pixel774</th>\n",
              "      <th>pixel775</th>\n",
              "      <th>pixel776</th>\n",
              "      <th>pixel777</th>\n",
              "      <th>pixel778</th>\n",
              "      <th>pixel779</th>\n",
              "      <th>pixel780</th>\n",
              "      <th>pixel781</th>\n",
              "      <th>pixel782</th>\n",
              "      <th>pixel783</th>\n",
              "    </tr>\n",
              "  </thead>\n",
              "  <tbody>\n",
              "    <tr>\n",
              "      <th>0</th>\n",
              "      <td>1</td>\n",
              "      <td>0</td>\n",
              "      <td>0</td>\n",
              "      <td>0</td>\n",
              "      <td>0</td>\n",
              "      <td>0</td>\n",
              "      <td>0</td>\n",
              "      <td>0</td>\n",
              "      <td>0</td>\n",
              "      <td>0</td>\n",
              "      <td>...</td>\n",
              "      <td>0</td>\n",
              "      <td>0</td>\n",
              "      <td>0</td>\n",
              "      <td>0</td>\n",
              "      <td>0</td>\n",
              "      <td>0</td>\n",
              "      <td>0</td>\n",
              "      <td>0</td>\n",
              "      <td>0</td>\n",
              "      <td>0</td>\n",
              "    </tr>\n",
              "    <tr>\n",
              "      <th>1</th>\n",
              "      <td>0</td>\n",
              "      <td>0</td>\n",
              "      <td>0</td>\n",
              "      <td>0</td>\n",
              "      <td>0</td>\n",
              "      <td>0</td>\n",
              "      <td>0</td>\n",
              "      <td>0</td>\n",
              "      <td>0</td>\n",
              "      <td>0</td>\n",
              "      <td>...</td>\n",
              "      <td>0</td>\n",
              "      <td>0</td>\n",
              "      <td>0</td>\n",
              "      <td>0</td>\n",
              "      <td>0</td>\n",
              "      <td>0</td>\n",
              "      <td>0</td>\n",
              "      <td>0</td>\n",
              "      <td>0</td>\n",
              "      <td>0</td>\n",
              "    </tr>\n",
              "    <tr>\n",
              "      <th>2</th>\n",
              "      <td>1</td>\n",
              "      <td>0</td>\n",
              "      <td>0</td>\n",
              "      <td>0</td>\n",
              "      <td>0</td>\n",
              "      <td>0</td>\n",
              "      <td>0</td>\n",
              "      <td>0</td>\n",
              "      <td>0</td>\n",
              "      <td>0</td>\n",
              "      <td>...</td>\n",
              "      <td>0</td>\n",
              "      <td>0</td>\n",
              "      <td>0</td>\n",
              "      <td>0</td>\n",
              "      <td>0</td>\n",
              "      <td>0</td>\n",
              "      <td>0</td>\n",
              "      <td>0</td>\n",
              "      <td>0</td>\n",
              "      <td>0</td>\n",
              "    </tr>\n",
              "    <tr>\n",
              "      <th>3</th>\n",
              "      <td>4</td>\n",
              "      <td>0</td>\n",
              "      <td>0</td>\n",
              "      <td>0</td>\n",
              "      <td>0</td>\n",
              "      <td>0</td>\n",
              "      <td>0</td>\n",
              "      <td>0</td>\n",
              "      <td>0</td>\n",
              "      <td>0</td>\n",
              "      <td>...</td>\n",
              "      <td>0</td>\n",
              "      <td>0</td>\n",
              "      <td>0</td>\n",
              "      <td>0</td>\n",
              "      <td>0</td>\n",
              "      <td>0</td>\n",
              "      <td>0</td>\n",
              "      <td>0</td>\n",
              "      <td>0</td>\n",
              "      <td>0</td>\n",
              "    </tr>\n",
              "    <tr>\n",
              "      <th>4</th>\n",
              "      <td>0</td>\n",
              "      <td>0</td>\n",
              "      <td>0</td>\n",
              "      <td>0</td>\n",
              "      <td>0</td>\n",
              "      <td>0</td>\n",
              "      <td>0</td>\n",
              "      <td>0</td>\n",
              "      <td>0</td>\n",
              "      <td>0</td>\n",
              "      <td>...</td>\n",
              "      <td>0</td>\n",
              "      <td>0</td>\n",
              "      <td>0</td>\n",
              "      <td>0</td>\n",
              "      <td>0</td>\n",
              "      <td>0</td>\n",
              "      <td>0</td>\n",
              "      <td>0</td>\n",
              "      <td>0</td>\n",
              "      <td>0</td>\n",
              "    </tr>\n",
              "  </tbody>\n",
              "</table>\n",
              "<p>5 rows × 785 columns</p>\n",
              "</div>\n",
              "      <button class=\"colab-df-convert\" onclick=\"convertToInteractive('df-f8c6b01b-931e-46f8-a5aa-29fa7a32b0be')\"\n",
              "              title=\"Convert this dataframe to an interactive table.\"\n",
              "              style=\"display:none;\">\n",
              "        \n",
              "  <svg xmlns=\"http://www.w3.org/2000/svg\" height=\"24px\"viewBox=\"0 0 24 24\"\n",
              "       width=\"24px\">\n",
              "    <path d=\"M0 0h24v24H0V0z\" fill=\"none\"/>\n",
              "    <path d=\"M18.56 5.44l.94 2.06.94-2.06 2.06-.94-2.06-.94-.94-2.06-.94 2.06-2.06.94zm-11 1L8.5 8.5l.94-2.06 2.06-.94-2.06-.94L8.5 2.5l-.94 2.06-2.06.94zm10 10l.94 2.06.94-2.06 2.06-.94-2.06-.94-.94-2.06-.94 2.06-2.06.94z\"/><path d=\"M17.41 7.96l-1.37-1.37c-.4-.4-.92-.59-1.43-.59-.52 0-1.04.2-1.43.59L10.3 9.45l-7.72 7.72c-.78.78-.78 2.05 0 2.83L4 21.41c.39.39.9.59 1.41.59.51 0 1.02-.2 1.41-.59l7.78-7.78 2.81-2.81c.8-.78.8-2.07 0-2.86zM5.41 20L4 18.59l7.72-7.72 1.47 1.35L5.41 20z\"/>\n",
              "  </svg>\n",
              "      </button>\n",
              "      \n",
              "  <style>\n",
              "    .colab-df-container {\n",
              "      display:flex;\n",
              "      flex-wrap:wrap;\n",
              "      gap: 12px;\n",
              "    }\n",
              "\n",
              "    .colab-df-convert {\n",
              "      background-color: #E8F0FE;\n",
              "      border: none;\n",
              "      border-radius: 50%;\n",
              "      cursor: pointer;\n",
              "      display: none;\n",
              "      fill: #1967D2;\n",
              "      height: 32px;\n",
              "      padding: 0 0 0 0;\n",
              "      width: 32px;\n",
              "    }\n",
              "\n",
              "    .colab-df-convert:hover {\n",
              "      background-color: #E2EBFA;\n",
              "      box-shadow: 0px 1px 2px rgba(60, 64, 67, 0.3), 0px 1px 3px 1px rgba(60, 64, 67, 0.15);\n",
              "      fill: #174EA6;\n",
              "    }\n",
              "\n",
              "    [theme=dark] .colab-df-convert {\n",
              "      background-color: #3B4455;\n",
              "      fill: #D2E3FC;\n",
              "    }\n",
              "\n",
              "    [theme=dark] .colab-df-convert:hover {\n",
              "      background-color: #434B5C;\n",
              "      box-shadow: 0px 1px 3px 1px rgba(0, 0, 0, 0.15);\n",
              "      filter: drop-shadow(0px 1px 2px rgba(0, 0, 0, 0.3));\n",
              "      fill: #FFFFFF;\n",
              "    }\n",
              "  </style>\n",
              "\n",
              "      <script>\n",
              "        const buttonEl =\n",
              "          document.querySelector('#df-f8c6b01b-931e-46f8-a5aa-29fa7a32b0be button.colab-df-convert');\n",
              "        buttonEl.style.display =\n",
              "          google.colab.kernel.accessAllowed ? 'block' : 'none';\n",
              "\n",
              "        async function convertToInteractive(key) {\n",
              "          const element = document.querySelector('#df-f8c6b01b-931e-46f8-a5aa-29fa7a32b0be');\n",
              "          const dataTable =\n",
              "            await google.colab.kernel.invokeFunction('convertToInteractive',\n",
              "                                                     [key], {});\n",
              "          if (!dataTable) return;\n",
              "\n",
              "          const docLinkHtml = 'Like what you see? Visit the ' +\n",
              "            '<a target=\"_blank\" href=https://colab.research.google.com/notebooks/data_table.ipynb>data table notebook</a>'\n",
              "            + ' to learn more about interactive tables.';\n",
              "          element.innerHTML = '';\n",
              "          dataTable['output_type'] = 'display_data';\n",
              "          await google.colab.output.renderOutput(dataTable, element);\n",
              "          const docLink = document.createElement('div');\n",
              "          docLink.innerHTML = docLinkHtml;\n",
              "          element.appendChild(docLink);\n",
              "        }\n",
              "      </script>\n",
              "    </div>\n",
              "  </div>\n",
              "  "
            ]
          },
          "metadata": {},
          "execution_count": 4
        }
      ]
    },
    {
      "cell_type": "code",
      "source": [
        "df.shape"
      ],
      "metadata": {
        "colab": {
          "base_uri": "https://localhost:8080/"
        },
        "id": "EXxuC8DWOGCX",
        "outputId": "ded80f9c-d76a-4962-86ae-4945d7eaa2f6"
      },
      "execution_count": 5,
      "outputs": [
        {
          "output_type": "execute_result",
          "data": {
            "text/plain": [
              "(42000, 785)"
            ]
          },
          "metadata": {},
          "execution_count": 5
        }
      ]
    },
    {
      "cell_type": "markdown",
      "source": [
        "# Splitting X & Y"
      ],
      "metadata": {
        "id": "JREd2D5WDSUx"
      }
    },
    {
      "cell_type": "code",
      "source": [
        "X = df.iloc[:,1:]\n",
        "X = X/255.0\n",
        "y = df.iloc[:,0:1]"
      ],
      "metadata": {
        "id": "VsrzfaBI_ViN"
      },
      "execution_count": 6,
      "outputs": []
    },
    {
      "cell_type": "markdown",
      "source": [
        "# Plotting an example"
      ],
      "metadata": {
        "id": "huoVV4wDDWOA"
      }
    },
    {
      "cell_type": "code",
      "source": [
        "ex_img = np.array(X.iloc[10,:].values)\n",
        "ex_img = ex_img.reshape((28,28))\n",
        "plt.imshow(ex_img)"
      ],
      "metadata": {
        "colab": {
          "base_uri": "https://localhost:8080/",
          "height": 364
        },
        "id": "n0Bp13zR_smR",
        "outputId": "d9641236-fd80-40ee-f9af-30c719597781"
      },
      "execution_count": 7,
      "outputs": [
        {
          "output_type": "execute_result",
          "data": {
            "text/plain": [
              "<matplotlib.image.AxesImage at 0x7f64fd911c10>"
            ]
          },
          "metadata": {},
          "execution_count": 7
        },
        {
          "output_type": "display_data",
          "data": {
            "text/plain": [
              "<Figure size 576x396 with 1 Axes>"
            ],
            "image/png": "[encoded data removed]"
          },
          "metadata": {}
        }
      ]
    },
    {
      "cell_type": "markdown",
      "source": [
        "# Reshaping"
      ],
      "metadata": {
        "id": "K6Yx65WcSgSX"
      }
    },
    {
      "cell_type": "markdown",
      "source": [
        "In order to be able to use Convolutional layer in keras we have to adjust the dimensition"
      ],
      "metadata": {
        "id": "PQ3HnsTeSjxB"
      }
    },
    {
      "cell_type": "code",
      "source": [
        "# Reshape image in 3 dimensions (height = 28px, width = 28px , channel = 1)\n",
        "X = X.values.reshape(-1,28,28,1)"
      ],
      "metadata": {
        "id": "stXhh8uSj_uD"
      },
      "execution_count": 8,
      "outputs": []
    },
    {
      "cell_type": "markdown",
      "source": [
        "# Creating Model"
      ],
      "metadata": {
        "id": "BUJIswLhS3KI"
      }
    },
    {
      "cell_type": "code",
      "source": [
        "model = tf.keras.models.Sequential([\n",
        "    tf.keras.layers.Conv2D(8, (3,3), activation='relu',input_shape=(28,28,1)),\n",
        "    tf.keras.layers.Conv2D(16, (3,3), activation='relu'),\n",
        "    tf.keras.layers.MaxPooling2D(2,2),\n",
        "    tf.keras.layers.Dropout(0.25),\n",
        "    tf.keras.layers.Conv2D(32, (3,3), activation='relu'),\n",
        "    tf.keras.layers.MaxPooling2D(2,2),\n",
        "    tf.keras.layers.Conv2D(32, (3,3), activation='relu'),\n",
        "    tf.keras.layers.MaxPooling2D(2,2),\n",
        "    tf.keras.layers.Dropout(0.25),\n",
        "    tf.keras.layers.Flatten(),\n",
        "    tf.keras.layers.Dense(64, activation='relu'),\n",
        "    tf.keras.layers.Dropout(0.1),\n",
        "    tf.keras.layers.Dense(10, activation='softmax')\n",
        "])\n",
        "model.summary()"
      ],
      "metadata": {
        "colab": {
          "base_uri": "https://localhost:8080/"
        },
        "id": "UBSoE_bUD0uK",
        "outputId": "128dec64-3e0b-4243-c107-f7078d9d9c2e"
      },
      "execution_count": 9,
      "outputs": [
        {
          "output_type": "stream",
          "name": "stdout",
          "text": [
            "Model: \"sequential\"\n",
            "_________________________________________________________________\n",
            " Layer (type)                Output Shape              Param #   \n",
            "=================================================================\n",
            " conv2d (Conv2D)             (None, 26, 26, 8)         80        \n",
            "                                                                 \n",
            " conv2d_1 (Conv2D)           (None, 24, 24, 16)        1168      \n",
            "                                                                 \n",
            " max_pooling2d (MaxPooling2D  (None, 12, 12, 16)       0         \n",
            " )                                                               \n",
            "                                                                 \n",
            " dropout (Dropout)           (None, 12, 12, 16)        0         \n",
            "                                                                 \n",
            " conv2d_2 (Conv2D)           (None, 10, 10, 32)        4640      \n",
            "                                                                 \n",
            " max_pooling2d_1 (MaxPooling  (None, 5, 5, 32)         0         \n",
            " 2D)                                                             \n",
            "                                                                 \n",
            " conv2d_3 (Conv2D)           (None, 3, 3, 32)          9248      \n",
            "                                                                 \n",
            " max_pooling2d_2 (MaxPooling  (None, 1, 1, 32)         0         \n",
            " 2D)                                                             \n",
            "                                                                 \n",
            " dropout_1 (Dropout)         (None, 1, 1, 32)          0         \n",
            "                                                                 \n",
            " flatten (Flatten)           (None, 32)                0         \n",
            "                                                                 \n",
            " dense (Dense)               (None, 64)                2112      \n",
            "                                                                 \n",
            " dropout_2 (Dropout)         (None, 64)                0         \n",
            "                                                                 \n",
            " dense_1 (Dense)             (None, 10)                650       \n",
            "                                                                 \n",
            "=================================================================\n",
            "Total params: 17,898\n",
            "Trainable params: 17,898\n",
            "Non-trainable params: 0\n",
            "_________________________________________________________________\n"
          ]
        }
      ]
    },
    {
      "cell_type": "code",
      "source": [
        "model.compile('Adam',\n",
        "              loss='sparse_categorical_crossentropy',\n",
        "              metrics = ['accuracy'])"
      ],
      "metadata": {
        "id": "dQQ6ZZ_uNWmZ"
      },
      "execution_count": 10,
      "outputs": []
    },
    {
      "cell_type": "markdown",
      "source": [
        "# Training model"
      ],
      "metadata": {
        "id": "TbgJw-2aS6Gn"
      }
    },
    {
      "cell_type": "code",
      "source": [
        "history = model.fit(X,y,validation_split=0.2, batch_size=20, epochs=50)"
      ],
      "metadata": {
        "colab": {
          "base_uri": "https://localhost:8080/"
        },
        "id": "XV8n76MQNese",
        "outputId": "547e0215-4a86-4d70-8014-642ac5f9b99b"
      },
      "execution_count": 11,
      "outputs": [
        {
          "output_type": "stream",
          "name": "stdout",
          "text": [
            "Epoch 1/50\n",
            "1680/1680 [==============================] - 37s 20ms/step - loss: 0.6273 - accuracy: 0.7884 - val_loss: 0.2013 - val_accuracy: 0.9408\n",
            "Epoch 2/50\n",
            "1680/1680 [==============================] - 35s 21ms/step - loss: 0.2534 - accuracy: 0.9208 - val_loss: 0.0905 - val_accuracy: 0.9701\n",
            "Epoch 3/50\n",
            "1680/1680 [==============================] - 35s 21ms/step - loss: 0.1969 - accuracy: 0.9390 - val_loss: 0.0995 - val_accuracy: 0.9707\n",
            "Epoch 4/50\n",
            "1680/1680 [==============================] - 36s 21ms/step - loss: 0.1611 - accuracy: 0.9510 - val_loss: 0.0732 - val_accuracy: 0.9777\n",
            "Epoch 5/50\n",
            "1680/1680 [==============================] - 34s 20ms/step - loss: 0.1369 - accuracy: 0.9594 - val_loss: 0.0703 - val_accuracy: 0.9802\n",
            "Epoch 6/50\n",
            "1680/1680 [==============================] - 36s 22ms/step - loss: 0.1326 - accuracy: 0.9595 - val_loss: 0.0556 - val_accuracy: 0.9837\n",
            "Epoch 7/50\n",
            "1680/1680 [==============================] - 34s 20ms/step - loss: 0.1193 - accuracy: 0.9644 - val_loss: 0.0495 - val_accuracy: 0.9849\n",
            "Epoch 8/50\n",
            "1680/1680 [==============================] - 35s 21ms/step - loss: 0.1093 - accuracy: 0.9675 - val_loss: 0.0532 - val_accuracy: 0.9846\n",
            "Epoch 9/50\n",
            "1680/1680 [==============================] - 35s 21ms/step - loss: 0.1035 - accuracy: 0.9688 - val_loss: 0.0527 - val_accuracy: 0.9860\n",
            "Epoch 10/50\n",
            "1680/1680 [==============================] - 35s 21ms/step - loss: 0.0987 - accuracy: 0.9699 - val_loss: 0.0513 - val_accuracy: 0.9849\n",
            "Epoch 11/50\n",
            "1680/1680 [==============================] - 38s 23ms/step - loss: 0.0914 - accuracy: 0.9725 - val_loss: 0.0497 - val_accuracy: 0.9864\n",
            "Epoch 12/50\n",
            "1680/1680 [==============================] - 37s 22ms/step - loss: 0.0841 - accuracy: 0.9745 - val_loss: 0.0436 - val_accuracy: 0.9874\n",
            "Epoch 13/50\n",
            "1680/1680 [==============================] - 35s 21ms/step - loss: 0.0851 - accuracy: 0.9736 - val_loss: 0.0490 - val_accuracy: 0.9864\n",
            "Epoch 14/50\n",
            "1680/1680 [==============================] - 35s 21ms/step - loss: 0.0782 - accuracy: 0.9762 - val_loss: 0.0454 - val_accuracy: 0.9862\n",
            "Epoch 15/50\n",
            "1680/1680 [==============================] - 37s 22ms/step - loss: 0.0786 - accuracy: 0.9759 - val_loss: 0.0499 - val_accuracy: 0.9864\n",
            "Epoch 16/50\n",
            "1680/1680 [==============================] - 37s 22ms/step - loss: 0.0742 - accuracy: 0.9781 - val_loss: 0.0472 - val_accuracy: 0.9875\n",
            "Epoch 17/50\n",
            "1680/1680 [==============================] - 37s 22ms/step - loss: 0.0746 - accuracy: 0.9771 - val_loss: 0.0417 - val_accuracy: 0.9887\n",
            "Epoch 18/50\n",
            "1680/1680 [==============================] - 34s 20ms/step - loss: 0.0719 - accuracy: 0.9784 - val_loss: 0.0434 - val_accuracy: 0.9893\n",
            "Epoch 19/50\n",
            "1680/1680 [==============================] - 36s 21ms/step - loss: 0.0693 - accuracy: 0.9788 - val_loss: 0.0408 - val_accuracy: 0.9883\n",
            "Epoch 20/50\n",
            "1680/1680 [==============================] - 35s 21ms/step - loss: 0.0675 - accuracy: 0.9799 - val_loss: 0.0442 - val_accuracy: 0.9881\n",
            "Epoch 21/50\n",
            "1680/1680 [==============================] - 35s 21ms/step - loss: 0.0663 - accuracy: 0.9796 - val_loss: 0.0397 - val_accuracy: 0.9894\n",
            "Epoch 22/50\n",
            "1680/1680 [==============================] - 34s 20ms/step - loss: 0.0654 - accuracy: 0.9791 - val_loss: 0.0411 - val_accuracy: 0.9885\n",
            "Epoch 23/50\n",
            "1680/1680 [==============================] - 35s 21ms/step - loss: 0.0602 - accuracy: 0.9814 - val_loss: 0.0430 - val_accuracy: 0.9871\n",
            "Epoch 24/50\n",
            "1680/1680 [==============================] - 36s 22ms/step - loss: 0.0600 - accuracy: 0.9817 - val_loss: 0.0408 - val_accuracy: 0.9890\n",
            "Epoch 25/50\n",
            "1680/1680 [==============================] - 39s 23ms/step - loss: 0.0629 - accuracy: 0.9811 - val_loss: 0.0415 - val_accuracy: 0.9889\n",
            "Epoch 26/50\n",
            "1680/1680 [==============================] - 36s 22ms/step - loss: 0.0592 - accuracy: 0.9819 - val_loss: 0.0398 - val_accuracy: 0.9889\n",
            "Epoch 27/50\n",
            "1680/1680 [==============================] - 36s 21ms/step - loss: 0.0589 - accuracy: 0.9826 - val_loss: 0.0452 - val_accuracy: 0.9880\n",
            "Epoch 28/50\n",
            "1680/1680 [==============================] - 37s 22ms/step - loss: 0.0595 - accuracy: 0.9817 - val_loss: 0.0383 - val_accuracy: 0.9887\n",
            "Epoch 29/50\n",
            "1680/1680 [==============================] - 37s 22ms/step - loss: 0.0559 - accuracy: 0.9830 - val_loss: 0.0382 - val_accuracy: 0.9894\n",
            "Epoch 30/50\n",
            "1680/1680 [==============================] - 38s 23ms/step - loss: 0.0558 - accuracy: 0.9823 - val_loss: 0.0431 - val_accuracy: 0.9894\n",
            "Epoch 31/50\n",
            "1680/1680 [==============================] - 38s 23ms/step - loss: 0.0567 - accuracy: 0.9828 - val_loss: 0.0403 - val_accuracy: 0.9892\n",
            "Epoch 32/50\n",
            "1680/1680 [==============================] - 37s 22ms/step - loss: 0.0581 - accuracy: 0.9827 - val_loss: 0.0360 - val_accuracy: 0.9913\n",
            "Epoch 33/50\n",
            "1680/1680 [==============================] - 37s 22ms/step - loss: 0.0528 - accuracy: 0.9834 - val_loss: 0.0358 - val_accuracy: 0.9906\n",
            "Epoch 34/50\n",
            "1680/1680 [==============================] - 36s 22ms/step - loss: 0.0520 - accuracy: 0.9843 - val_loss: 0.0468 - val_accuracy: 0.9887\n",
            "Epoch 35/50\n",
            "1680/1680 [==============================] - 37s 22ms/step - loss: 0.0516 - accuracy: 0.9837 - val_loss: 0.0412 - val_accuracy: 0.9904\n",
            "Epoch 36/50\n",
            "1680/1680 [==============================] - 36s 21ms/step - loss: 0.0541 - accuracy: 0.9841 - val_loss: 0.0439 - val_accuracy: 0.9893\n",
            "Epoch 37/50\n",
            "1680/1680 [==============================] - 37s 22ms/step - loss: 0.0494 - accuracy: 0.9849 - val_loss: 0.0423 - val_accuracy: 0.9894\n",
            "Epoch 38/50\n",
            "1680/1680 [==============================] - 36s 21ms/step - loss: 0.0534 - accuracy: 0.9830 - val_loss: 0.0401 - val_accuracy: 0.9905\n",
            "Epoch 39/50\n",
            "1680/1680 [==============================] - 34s 21ms/step - loss: 0.0503 - accuracy: 0.9845 - val_loss: 0.0458 - val_accuracy: 0.9881\n",
            "Epoch 40/50\n",
            "1680/1680 [==============================] - 35s 21ms/step - loss: 0.0518 - accuracy: 0.9837 - val_loss: 0.0443 - val_accuracy: 0.9876\n",
            "Epoch 41/50\n",
            "1680/1680 [==============================] - 35s 21ms/step - loss: 0.0483 - accuracy: 0.9857 - val_loss: 0.0389 - val_accuracy: 0.9901\n",
            "Epoch 42/50\n",
            "1680/1680 [==============================] - 35s 21ms/step - loss: 0.0466 - accuracy: 0.9860 - val_loss: 0.0414 - val_accuracy: 0.9902\n",
            "Epoch 43/50\n",
            "1680/1680 [==============================] - 34s 20ms/step - loss: 0.0484 - accuracy: 0.9848 - val_loss: 0.0466 - val_accuracy: 0.9886\n",
            "Epoch 44/50\n",
            "1680/1680 [==============================] - 37s 22ms/step - loss: 0.0507 - accuracy: 0.9835 - val_loss: 0.0357 - val_accuracy: 0.9904\n",
            "Epoch 45/50\n",
            "1680/1680 [==============================] - 36s 21ms/step - loss: 0.0450 - accuracy: 0.9861 - val_loss: 0.0417 - val_accuracy: 0.9901\n",
            "Epoch 46/50\n",
            "1680/1680 [==============================] - 35s 21ms/step - loss: 0.0463 - accuracy: 0.9858 - val_loss: 0.0451 - val_accuracy: 0.9894\n",
            "Epoch 47/50\n",
            "1680/1680 [==============================] - 35s 21ms/step - loss: 0.0463 - accuracy: 0.9867 - val_loss: 0.0473 - val_accuracy: 0.9888\n",
            "Epoch 48/50\n",
            "1680/1680 [==============================] - 36s 21ms/step - loss: 0.0489 - accuracy: 0.9855 - val_loss: 0.0388 - val_accuracy: 0.9906\n",
            "Epoch 49/50\n",
            "1680/1680 [==============================] - 36s 21ms/step - loss: 0.0478 - accuracy: 0.9857 - val_loss: 0.0399 - val_accuracy: 0.9905\n",
            "Epoch 50/50\n",
            "1680/1680 [==============================] - 36s 22ms/step - loss: 0.0476 - accuracy: 0.9860 - val_loss: 0.0380 - val_accuracy: 0.9902\n"
          ]
        }
      ]
    },
    {
      "cell_type": "markdown",
      "source": [
        "# Importing Test dataset"
      ],
      "metadata": {
        "id": "3F2y4jjKTAFv"
      }
    },
    {
      "cell_type": "code",
      "source": [
        "test = pd.read_csv(\"/content/test.csv\")\n",
        "test.head()"
      ],
      "metadata": {
        "colab": {
          "base_uri": "https://localhost:8080/",
          "height": 236
        },
        "id": "HwAZdobWnDxb",
        "outputId": "28e43e2f-3420-4761-d989-1df7bef6dde5"
      },
      "execution_count": 12,
      "outputs": [
        {
          "output_type": "execute_result",
          "data": {
            "text/plain": [
              "   pixel0  pixel1  pixel2  pixel3  pixel4  pixel5  pixel6  pixel7  pixel8  \\\n",
              "0       0       0       0       0       0       0       0       0       0   \n",
              "1       0       0       0       0       0       0       0       0       0   \n",
              "2       0       0       0       0       0       0       0       0       0   \n",
              "3       0       0       0       0       0       0       0       0       0   \n",
              "4       0       0       0       0       0       0       0       0       0   \n",
              "\n",
              "   pixel9  ...  pixel774  pixel775  pixel776  pixel777  pixel778  pixel779  \\\n",
              "0       0  ...         0         0         0         0         0         0   \n",
              "1       0  ...         0         0         0         0         0         0   \n",
              "2       0  ...         0         0         0         0         0         0   \n",
              "3       0  ...         0         0         0         0         0         0   \n",
              "4       0  ...         0         0         0         0         0         0   \n",
              "\n",
              "   pixel780  pixel781  pixel782  pixel783  \n",
              "0         0         0         0         0  \n",
              "1         0         0         0         0  \n",
              "2         0         0         0         0  \n",
              "3         0         0         0         0  \n",
              "4         0         0         0         0  \n",
              "\n",
              "[5 rows x 784 columns]"
            ],
            "text/html": [
              "\n",
              "  <div id=\"df-a6d442b1-2a50-4b0f-8048-e098da2bf7ba\">\n",
              "    <div class=\"colab-df-container\">\n",
              "      <div>\n",
              "<style scoped>\n",
              "    .dataframe tbody tr th:only-of-type {\n",
              "        vertical-align: middle;\n",
              "    }\n",
              "\n",
              "    .dataframe tbody tr th {\n",
              "        vertical-align: top;\n",
              "    }\n",
              "\n",
              "    .dataframe thead th {\n",
              "        text-align: right;\n",
              "    }\n",
              "</style>\n",
              "<table border=\"1\" class=\"dataframe\">\n",
              "  <thead>\n",
              "    <tr style=\"text-align: right;\">\n",
              "      <th></th>\n",
              "      <th>pixel0</th>\n",
              "      <th>pixel1</th>\n",
              "      <th>pixel2</th>\n",
              "      <th>pixel3</th>\n",
              "      <th>pixel4</th>\n",
              "      <th>pixel5</th>\n",
              "      <th>pixel6</th>\n",
              "      <th>pixel7</th>\n",
              "      <th>pixel8</th>\n",
              "      <th>pixel9</th>\n",
              "      <th>...</th>\n",
              "      <th>pixel774</th>\n",
              "      <th>pixel775</th>\n",
              "      <th>pixel776</th>\n",
              "      <th>pixel777</th>\n",
              "      <th>pixel778</th>\n",
              "      <th>pixel779</th>\n",
              "      <th>pixel780</th>\n",
              "      <th>pixel781</th>\n",
              "      <th>pixel782</th>\n",
              "      <th>pixel783</th>\n",
              "    </tr>\n",
              "  </thead>\n",
              "  <tbody>\n",
              "    <tr>\n",
              "      <th>0</th>\n",
              "      <td>0</td>\n",
              "      <td>0</td>\n",
              "      <td>0</td>\n",
              "      <td>0</td>\n",
              "      <td>0</td>\n",
              "      <td>0</td>\n",
              "      <td>0</td>\n",
              "      <td>0</td>\n",
              "      <td>0</td>\n",
              "      <td>0</td>\n",
              "      <td>...</td>\n",
              "      <td>0</td>\n",
              "      <td>0</td>\n",
              "      <td>0</td>\n",
              "      <td>0</td>\n",
              "      <td>0</td>\n",
              "      <td>0</td>\n",
              "      <td>0</td>\n",
              "      <td>0</td>\n",
              "      <td>0</td>\n",
              "      <td>0</td>\n",
              "    </tr>\n",
              "    <tr>\n",
              "      <th>1</th>\n",
              "      <td>0</td>\n",
              "      <td>0</td>\n",
              "      <td>0</td>\n",
              "      <td>0</td>\n",
              "      <td>0</td>\n",
              "      <td>0</td>\n",
              "      <td>0</td>\n",
              "      <td>0</td>\n",
              "      <td>0</td>\n",
              "      <td>0</td>\n",
              "      <td>...</td>\n",
              "      <td>0</td>\n",
              "      <td>0</td>\n",
              "      <td>0</td>\n",
              "      <td>0</td>\n",
              "      <td>0</td>\n",
              "      <td>0</td>\n",
              "      <td>0</td>\n",
              "      <td>0</td>\n",
              "      <td>0</td>\n",
              "      <td>0</td>\n",
              "    </tr>\n",
              "    <tr>\n",
              "      <th>2</th>\n",
              "      <td>0</td>\n",
              "      <td>0</td>\n",
              "      <td>0</td>\n",
              "      <td>0</td>\n",
              "      <td>0</td>\n",
              "      <td>0</td>\n",
              "      <td>0</td>\n",
              "      <td>0</td>\n",
              "      <td>0</td>\n",
              "      <td>0</td>\n",
              "      <td>...</td>\n",
              "      <td>0</td>\n",
              "      <td>0</td>\n",
              "      <td>0</td>\n",
              "      <td>0</td>\n",
              "      <td>0</td>\n",
              "      <td>0</td>\n",
              "      <td>0</td>\n",
              "      <td>0</td>\n",
              "      <td>0</td>\n",
              "      <td>0</td>\n",
              "    </tr>\n",
              "    <tr>\n",
              "      <th>3</th>\n",
              "      <td>0</td>\n",
              "      <td>0</td>\n",
              "      <td>0</td>\n",
              "      <td>0</td>\n",
              "      <td>0</td>\n",
              "      <td>0</td>\n",
              "      <td>0</td>\n",
              "      <td>0</td>\n",
              "      <td>0</td>\n",
              "      <td>0</td>\n",
              "      <td>...</td>\n",
              "      <td>0</td>\n",
              "      <td>0</td>\n",
              "      <td>0</td>\n",
              "      <td>0</td>\n",
              "      <td>0</td>\n",
              "      <td>0</td>\n",
              "      <td>0</td>\n",
              "      <td>0</td>\n",
              "      <td>0</td>\n",
              "      <td>0</td>\n",
              "    </tr>\n",
              "    <tr>\n",
              "      <th>4</th>\n",
              "      <td>0</td>\n",
              "      <td>0</td>\n",
              "      <td>0</td>\n",
              "      <td>0</td>\n",
              "      <td>0</td>\n",
              "      <td>0</td>\n",
              "      <td>0</td>\n",
              "      <td>0</td>\n",
              "      <td>0</td>\n",
              "      <td>0</td>\n",
              "      <td>...</td>\n",
              "      <td>0</td>\n",
              "      <td>0</td>\n",
              "      <td>0</td>\n",
              "      <td>0</td>\n",
              "      <td>0</td>\n",
              "      <td>0</td>\n",
              "      <td>0</td>\n",
              "      <td>0</td>\n",
              "      <td>0</td>\n",
              "      <td>0</td>\n",
              "    </tr>\n",
              "  </tbody>\n",
              "</table>\n",
              "<p>5 rows × 784 columns</p>\n",
              "</div>\n",
              "      <button class=\"colab-df-convert\" onclick=\"convertToInteractive('df-a6d442b1-2a50-4b0f-8048-e098da2bf7ba')\"\n",
              "              title=\"Convert this dataframe to an interactive table.\"\n",
              "              style=\"display:none;\">\n",
              "        \n",
              "  <svg xmlns=\"http://www.w3.org/2000/svg\" height=\"24px\"viewBox=\"0 0 24 24\"\n",
              "       width=\"24px\">\n",
              "    <path d=\"M0 0h24v24H0V0z\" fill=\"none\"/>\n",
              "    <path d=\"M18.56 5.44l.94 2.06.94-2.06 2.06-.94-2.06-.94-.94-2.06-.94 2.06-2.06.94zm-11 1L8.5 8.5l.94-2.06 2.06-.94-2.06-.94L8.5 2.5l-.94 2.06-2.06.94zm10 10l.94 2.06.94-2.06 2.06-.94-2.06-.94-.94-2.06-.94 2.06-2.06.94z\"/><path d=\"M17.41 7.96l-1.37-1.37c-.4-.4-.92-.59-1.43-.59-.52 0-1.04.2-1.43.59L10.3 9.45l-7.72 7.72c-.78.78-.78 2.05 0 2.83L4 21.41c.39.39.9.59 1.41.59.51 0 1.02-.2 1.41-.59l7.78-7.78 2.81-2.81c.8-.78.8-2.07 0-2.86zM5.41 20L4 18.59l7.72-7.72 1.47 1.35L5.41 20z\"/>\n",
              "  </svg>\n",
              "      </button>\n",
              "      \n",
              "  <style>\n",
              "    .colab-df-container {\n",
              "      display:flex;\n",
              "      flex-wrap:wrap;\n",
              "      gap: 12px;\n",
              "    }\n",
              "\n",
              "    .colab-df-convert {\n",
              "      background-color: #E8F0FE;\n",
              "      border: none;\n",
              "      border-radius: 50%;\n",
              "      cursor: pointer;\n",
              "      display: none;\n",
              "      fill: #1967D2;\n",
              "      height: 32px;\n",
              "      padding: 0 0 0 0;\n",
              "      width: 32px;\n",
              "    }\n",
              "\n",
              "    .colab-df-convert:hover {\n",
              "      background-color: #E2EBFA;\n",
              "      box-shadow: 0px 1px 2px rgba(60, 64, 67, 0.3), 0px 1px 3px 1px rgba(60, 64, 67, 0.15);\n",
              "      fill: #174EA6;\n",
              "    }\n",
              "\n",
              "    [theme=dark] .colab-df-convert {\n",
              "      background-color: #3B4455;\n",
              "      fill: #D2E3FC;\n",
              "    }\n",
              "\n",
              "    [theme=dark] .colab-df-convert:hover {\n",
              "      background-color: #434B5C;\n",
              "      box-shadow: 0px 1px 3px 1px rgba(0, 0, 0, 0.15);\n",
              "      filter: drop-shadow(0px 1px 2px rgba(0, 0, 0, 0.3));\n",
              "      fill: #FFFFFF;\n",
              "    }\n",
              "  </style>\n",
              "\n",
              "      <script>\n",
              "        const buttonEl =\n",
              "          document.querySelector('#df-a6d442b1-2a50-4b0f-8048-e098da2bf7ba button.colab-df-convert');\n",
              "        buttonEl.style.display =\n",
              "          google.colab.kernel.accessAllowed ? 'block' : 'none';\n",
              "\n",
              "        async function convertToInteractive(key) {\n",
              "          const element = document.querySelector('#df-a6d442b1-2a50-4b0f-8048-e098da2bf7ba');\n",
              "          const dataTable =\n",
              "            await google.colab.kernel.invokeFunction('convertToInteractive',\n",
              "                                                     [key], {});\n",
              "          if (!dataTable) return;\n",
              "\n",
              "          const docLinkHtml = 'Like what you see? Visit the ' +\n",
              "            '<a target=\"_blank\" href=https://colab.research.google.com/notebooks/data_table.ipynb>data table notebook</a>'\n",
              "            + ' to learn more about interactive tables.';\n",
              "          element.innerHTML = '';\n",
              "          dataTable['output_type'] = 'display_data';\n",
              "          await google.colab.output.renderOutput(dataTable, element);\n",
              "          const docLink = document.createElement('div');\n",
              "          docLink.innerHTML = docLinkHtml;\n",
              "          element.appendChild(docLink);\n",
              "        }\n",
              "      </script>\n",
              "    </div>\n",
              "  </div>\n",
              "  "
            ]
          },
          "metadata": {},
          "execution_count": 12
        }
      ]
    },
    {
      "cell_type": "markdown",
      "source": [
        "## Reshaping test data"
      ],
      "metadata": {
        "id": "bh_boaLPTGm_"
      }
    },
    {
      "cell_type": "code",
      "source": [
        "t = test.iloc[:,:]/255.0\n",
        "t = t.values.reshape(-1,28,28,1)"
      ],
      "metadata": {
        "id": "b9Ot38osnp1-"
      },
      "execution_count": 13,
      "outputs": []
    },
    {
      "cell_type": "markdown",
      "source": [
        "# Predicting the result"
      ],
      "metadata": {
        "id": "t2gd3HLdTJVf"
      }
    },
    {
      "cell_type": "code",
      "source": [
        "y_pred = model.predict(t)"
      ],
      "metadata": {
        "colab": {
          "base_uri": "https://localhost:8080/"
        },
        "id": "Twl_tc5TnuKt",
        "outputId": "72f5842e-785f-4a8f-8964-5b4abc5c76d5"
      },
      "execution_count": 14,
      "outputs": [
        {
          "output_type": "stream",
          "name": "stdout",
          "text": [
            "875/875 [==============================] - 7s 8ms/step\n"
          ]
        }
      ]
    },
    {
      "cell_type": "markdown",
      "source": [
        "# Choosing The Number with the highest probability"
      ],
      "metadata": {
        "id": "2peeL6MXTPjv"
      }
    },
    {
      "cell_type": "code",
      "source": [
        "y_pred = np.argmax(y_pred,axis=1)"
      ],
      "metadata": {
        "id": "4AjSupTkoxdH"
      },
      "execution_count": 15,
      "outputs": []
    },
    {
      "cell_type": "markdown",
      "source": [
        "# Importing Submission Sample"
      ],
      "metadata": {
        "id": "2Yr6Ia9mTZCm"
      }
    },
    {
      "cell_type": "code",
      "source": [
        "sub = pd.read_csv('/content/sample_submission.csv')\n",
        "sub"
      ],
      "metadata": {
        "colab": {
          "base_uri": "https://localhost:8080/",
          "height": 424
        },
        "id": "K_AyMFKKpAfO",
        "outputId": "f7404c20-219b-42ff-9178-6f8d41e9e57e"
      },
      "execution_count": 16,
      "outputs": [
        {
          "output_type": "execute_result",
          "data": {
            "text/plain": [
              "       ImageId  Label\n",
              "0            1      0\n",
              "1            2      0\n",
              "2            3      0\n",
              "3            4      0\n",
              "4            5      0\n",
              "...        ...    ...\n",
              "27995    27996      0\n",
              "27996    27997      0\n",
              "27997    27998      0\n",
              "27998    27999      0\n",
              "27999    28000      0\n",
              "\n",
              "[28000 rows x 2 columns]"
            ],
            "text/html": [
              "\n",
              "  <div id=\"df-919e070b-cd5b-466e-98d0-56682568faf8\">\n",
              "    <div class=\"colab-df-container\">\n",
              "      <div>\n",
              "<style scoped>\n",
              "    .dataframe tbody tr th:only-of-type {\n",
              "        vertical-align: middle;\n",
              "    }\n",
              "\n",
              "    .dataframe tbody tr th {\n",
              "        vertical-align: top;\n",
              "    }\n",
              "\n",
              "    .dataframe thead th {\n",
              "        text-align: right;\n",
              "    }\n",
              "</style>\n",
              "<table border=\"1\" class=\"dataframe\">\n",
              "  <thead>\n",
              "    <tr style=\"text-align: right;\">\n",
              "      <th></th>\n",
              "      <th>ImageId</th>\n",
              "      <th>Label</th>\n",
              "    </tr>\n",
              "  </thead>\n",
              "  <tbody>\n",
              "    <tr>\n",
              "      <th>0</th>\n",
              "      <td>1</td>\n",
              "      <td>0</td>\n",
              "    </tr>\n",
              "    <tr>\n",
              "      <th>1</th>\n",
              "      <td>2</td>\n",
              "      <td>0</td>\n",
              "    </tr>\n",
              "    <tr>\n",
              "      <th>2</th>\n",
              "      <td>3</td>\n",
              "      <td>0</td>\n",
              "    </tr>\n",
              "    <tr>\n",
              "      <th>3</th>\n",
              "      <td>4</td>\n",
              "      <td>0</td>\n",
              "    </tr>\n",
              "    <tr>\n",
              "      <th>4</th>\n",
              "      <td>5</td>\n",
              "      <td>0</td>\n",
              "    </tr>\n",
              "    <tr>\n",
              "      <th>...</th>\n",
              "      <td>...</td>\n",
              "      <td>...</td>\n",
              "    </tr>\n",
              "    <tr>\n",
              "      <th>27995</th>\n",
              "      <td>27996</td>\n",
              "      <td>0</td>\n",
              "    </tr>\n",
              "    <tr>\n",
              "      <th>27996</th>\n",
              "      <td>27997</td>\n",
              "      <td>0</td>\n",
              "    </tr>\n",
              "    <tr>\n",
              "      <th>27997</th>\n",
              "      <td>27998</td>\n",
              "      <td>0</td>\n",
              "    </tr>\n",
              "    <tr>\n",
              "      <th>27998</th>\n",
              "      <td>27999</td>\n",
              "      <td>0</td>\n",
              "    </tr>\n",
              "    <tr>\n",
              "      <th>27999</th>\n",
              "      <td>28000</td>\n",
              "      <td>0</td>\n",
              "    </tr>\n",
              "  </tbody>\n",
              "</table>\n",
              "<p>28000 rows × 2 columns</p>\n",
              "</div>\n",
              "      <button class=\"colab-df-convert\" onclick=\"convertToInteractive('df-919e070b-cd5b-466e-98d0-56682568faf8')\"\n",
              "              title=\"Convert this dataframe to an interactive table.\"\n",
              "              style=\"display:none;\">\n",
              "        \n",
              "  <svg xmlns=\"http://www.w3.org/2000/svg\" height=\"24px\"viewBox=\"0 0 24 24\"\n",
              "       width=\"24px\">\n",
              "    <path d=\"M0 0h24v24H0V0z\" fill=\"none\"/>\n",
              "    <path d=\"M18.56 5.44l.94 2.06.94-2.06 2.06-.94-2.06-.94-.94-2.06-.94 2.06-2.06.94zm-11 1L8.5 8.5l.94-2.06 2.06-.94-2.06-.94L8.5 2.5l-.94 2.06-2.06.94zm10 10l.94 2.06.94-2.06 2.06-.94-2.06-.94-.94-2.06-.94 2.06-2.06.94z\"/><path d=\"M17.41 7.96l-1.37-1.37c-.4-.4-.92-.59-1.43-.59-.52 0-1.04.2-1.43.59L10.3 9.45l-7.72 7.72c-.78.78-.78 2.05 0 2.83L4 21.41c.39.39.9.59 1.41.59.51 0 1.02-.2 1.41-.59l7.78-7.78 2.81-2.81c.8-.78.8-2.07 0-2.86zM5.41 20L4 18.59l7.72-7.72 1.47 1.35L5.41 20z\"/>\n",
              "  </svg>\n",
              "      </button>\n",
              "      \n",
              "  <style>\n",
              "    .colab-df-container {\n",
              "      display:flex;\n",
              "      flex-wrap:wrap;\n",
              "      gap: 12px;\n",
              "    }\n",
              "\n",
              "    .colab-df-convert {\n",
              "      background-color: #E8F0FE;\n",
              "      border: none;\n",
              "      border-radius: 50%;\n",
              "      cursor: pointer;\n",
              "      display: none;\n",
              "      fill: #1967D2;\n",
              "      height: 32px;\n",
              "      padding: 0 0 0 0;\n",
              "      width: 32px;\n",
              "    }\n",
              "\n",
              "    .colab-df-convert:hover {\n",
              "      background-color: #E2EBFA;\n",
              "      box-shadow: 0px 1px 2px rgba(60, 64, 67, 0.3), 0px 1px 3px 1px rgba(60, 64, 67, 0.15);\n",
              "      fill: #174EA6;\n",
              "    }\n",
              "\n",
              "    [theme=dark] .colab-df-convert {\n",
              "      background-color: #3B4455;\n",
              "      fill: #D2E3FC;\n",
              "    }\n",
              "\n",
              "    [theme=dark] .colab-df-convert:hover {\n",
              "      background-color: #434B5C;\n",
              "      box-shadow: 0px 1px 3px 1px rgba(0, 0, 0, 0.15);\n",
              "      filter: drop-shadow(0px 1px 2px rgba(0, 0, 0, 0.3));\n",
              "      fill: #FFFFFF;\n",
              "    }\n",
              "  </style>\n",
              "\n",
              "      <script>\n",
              "        const buttonEl =\n",
              "          document.querySelector('#df-919e070b-cd5b-466e-98d0-56682568faf8 button.colab-df-convert');\n",
              "        buttonEl.style.display =\n",
              "          google.colab.kernel.accessAllowed ? 'block' : 'none';\n",
              "\n",
              "        async function convertToInteractive(key) {\n",
              "          const element = document.querySelector('#df-919e070b-cd5b-466e-98d0-56682568faf8');\n",
              "          const dataTable =\n",
              "            await google.colab.kernel.invokeFunction('convertToInteractive',\n",
              "                                                     [key], {});\n",
              "          if (!dataTable) return;\n",
              "\n",
              "          const docLinkHtml = 'Like what you see? Visit the ' +\n",
              "            '<a target=\"_blank\" href=https://colab.research.google.com/notebooks/data_table.ipynb>data table notebook</a>'\n",
              "            + ' to learn more about interactive tables.';\n",
              "          element.innerHTML = '';\n",
              "          dataTable['output_type'] = 'display_data';\n",
              "          await google.colab.output.renderOutput(dataTable, element);\n",
              "          const docLink = document.createElement('div');\n",
              "          docLink.innerHTML = docLinkHtml;\n",
              "          element.appendChild(docLink);\n",
              "        }\n",
              "      </script>\n",
              "    </div>\n",
              "  </div>\n",
              "  "
            ]
          },
          "metadata": {},
          "execution_count": 16
        }
      ]
    },
    {
      "cell_type": "markdown",
      "source": [
        "# Replacing Predicted Result"
      ],
      "metadata": {
        "id": "tr4yoXHZTgSZ"
      }
    },
    {
      "cell_type": "code",
      "source": [
        "sub['Label'] = y_pred"
      ],
      "metadata": {
        "id": "U9KXpLOPpZBY"
      },
      "execution_count": 17,
      "outputs": []
    },
    {
      "cell_type": "markdown",
      "source": [
        "# Export the result to csv format"
      ],
      "metadata": {
        "id": "ExYeRhAATln5"
      }
    },
    {
      "cell_type": "code",
      "source": [
        "sub.to_csv('last.csv',index=False)"
      ],
      "metadata": {
        "id": "IHX3BttNpd0N"
      },
      "execution_count": 18,
      "outputs": []
    },
    {
      "cell_type": "markdown",
      "source": [
        "# Submitting the result"
      ],
      "metadata": {
        "id": "G4yY4G4VTqsY"
      }
    },
    {
      "cell_type": "code",
      "source": [
        "! kaggle competitions submit -c digit-recognizer -f last.csv -m \"first try\""
      ],
      "metadata": {
        "colab": {
          "base_uri": "https://localhost:8080/"
        },
        "id": "Tl2KBDnjqre3",
        "outputId": "d52a44ea-1414-4b2d-dbf3-ab1a8cc30c78"
      },
      "execution_count": 19,
      "outputs": [
        {
          "output_type": "stream",
          "name": "stdout",
          "text": [
            "100% 208k/208k [00:01<00:00, 165kB/s]\n",
            "Successfully submitted to Digit Recognizer"
          ]
        }
      ]
    }
  ]
}